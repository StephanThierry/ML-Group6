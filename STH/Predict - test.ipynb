{
 "cells": [
  {
   "cell_type": "code",
   "execution_count": 1,
   "metadata": {},
   "outputs": [],
   "source": [
    "from sklearn.tree import DecisionTreeRegressor\n",
    "from sklearn.model_selection import train_test_split\n",
    "import pandas as pd"
   ]
  },
  {
   "cell_type": "code",
   "execution_count": 3,
   "metadata": {},
   "outputs": [
    {
     "data": {
      "text/plain": [
       "DecisionTreeRegressor(criterion='mse', max_depth=10, max_features=None,\n",
       "           max_leaf_nodes=None, min_impurity_decrease=0.0,\n",
       "           min_impurity_split=None, min_samples_leaf=1,\n",
       "           min_samples_split=2, min_weight_fraction_leaf=0.0,\n",
       "           presort=False, random_state=None, splitter='best')"
      ]
     },
     "execution_count": 3,
     "metadata": {},
     "output_type": "execute_result"
    }
   ],
   "source": [
    "df = pd.read_csv('flights.csv')\n",
    "df = df.drop(['carrier','tailnum','flight','origin','dest'], axis=1)\n",
    "data = df.dropna()\n",
    "target = data['dep_delay']\n",
    "features = data.drop(['dep_delay'], axis=1)\n",
    "y = target.values\n",
    "X = features.values\n",
    "X_train, X_test, y_train, y_test = train_test_split(X, y)\n",
    "\n",
    "\n",
    "tree = DecisionTreeRegressor(max_depth=10)\n",
    "tree.fit(X_train, y_train)"
   ]
  },
  {
   "cell_type": "code",
   "execution_count": 4,
   "metadata": {},
   "outputs": [
    {
     "name": "stdout",
     "output_type": "stream",
     "text": [
      "X = [-1.41035736]\n",
      "y = -5.0\n",
      "\n",
      "X = [-5.98121387]\n",
      "y = -7.0\n",
      "\n",
      "X = [57.06896552]\n",
      "y = 31.0\n",
      "\n",
      "X = [-1.47369785]\n",
      "y = -1.0\n",
      "\n",
      "X = [-0.79939668]\n",
      "y = 1.0\n",
      "\n",
      "X = [-0.47131609]\n",
      "y = -3.0\n",
      "\n",
      "X = [-4.00263687]\n",
      "y = -3.0\n",
      "\n",
      "X = [260.6875]\n",
      "y = 249.0\n",
      "\n",
      "X = [-5.06863934]\n",
      "y = -5.0\n",
      "\n"
     ]
    }
   ],
   "source": [
    "for x, y in zip(X_test[1:10], y_test[1:10]):\n",
    "    print(\"X = {}\".format(tree.predict([x])))\n",
    "    print(\"y = {}\\n\".format(y))"
   ]
  },
  {
   "cell_type": "code",
   "execution_count": null,
   "metadata": {
    "collapsed": true
   },
   "outputs": [],
   "source": []
  }
 ],
 "metadata": {
  "kernelspec": {
   "display_name": "Python 3",
   "language": "python",
   "name": "python3"
  },
  "language_info": {
   "codemirror_mode": {
    "name": "ipython",
    "version": 3
   },
   "file_extension": ".py",
   "mimetype": "text/x-python",
   "name": "python",
   "nbconvert_exporter": "python",
   "pygments_lexer": "ipython3",
   "version": "3.7.1"
  }
 },
 "nbformat": 4,
 "nbformat_minor": 2
}
